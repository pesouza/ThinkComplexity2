{
 "cells": [
  {
   "cell_type": "markdown",
   "metadata": {
    "tags": []
   },
   "source": [
    "# Quiz 4\n",
    "\n",
    "BEFORE YOU START THIS QUIZ:\n",
    "\n",
    "1. Click on \"Copy to Drive\" to make a copy of the quiz\n",
    "\n",
    "2. Click on \"Share\",\n",
    "    \n",
    "3. Click on \"Change\" and select \"Anyone with this link can edit\"\n",
    "    \n",
    "4. Click \"Copy link\" and\n",
    "\n",
    "5. Paste the link into [this Canvas assignment](https://canvas.olin.edu/courses/315/assignments/5071).\n",
    "\n",
    "This quiz is based on Chapters 9 and 10 of [Think Complexity, 2nd edition](https://thinkcomplex.com).\n",
    "\n",
    "Copyright 2021 Allen Downey, [MIT License](http://opensource.org/licenses/MIT)"
   ]
  },
  {
   "cell_type": "code",
   "execution_count": 602,
   "metadata": {},
   "outputs": [],
   "source": [
    "from os.path import basename, exists\n",
    "\n",
    "def download(url):\n",
    "    filename = basename(url)\n",
    "    if not exists(filename):\n",
    "        from urllib.request import urlretrieve\n",
    "        local, _ = urlretrieve(url, filename)\n",
    "        print('Downloaded ' + local)\n",
    "    \n",
    "download('https://github.com/AllenDowney/ThinkComplexity2/raw/master/notebooks/utils.py')\n"
   ]
  },
  {
   "cell_type": "code",
   "execution_count": 603,
   "metadata": {},
   "outputs": [],
   "source": [
    "import matplotlib.pyplot as plt\n",
    "import numpy as np\n",
    "import networkx as nx\n",
    "\n",
    "from utils import decorate"
   ]
  },
  {
   "cell_type": "markdown",
   "metadata": {},
   "source": [
    "## Fireflies\n",
    "\n",
    "In Chapter 1 of Think Complexity, I wrote about Strogatz's model of spontaneous synchronization in some species of fireflies and his proof that “sync was inevitable”. I said:\n",
    "\n",
    "> Strogatz makes several simplifying assumptions, in particular that each firefly can see all the others. In my opinion, it is more interesting to explain how an entire valley of fireflies can synchronize despite the fact that they cannot all see each other.\n",
    ">\n",
    ">Explanations of these phenomena often use agent-based models, which explore ... the conditions that allow or prevent synchronization.\n",
    "\n",
    "So let's get back to that.\n",
    "\n",
    "Among many other awesome projects, [Nicky Case](https://ncase.me/faq/) has developed an online simulation of firefly synchronization, [which you can run here](https://ncase.me/fireflies/)."
   ]
  },
  {
   "cell_type": "markdown",
   "metadata": {},
   "source": [
    "The goal of this activity is to replicate their model and explore its behavior as we vary some of its parameters.\n",
    "\n",
    "Here are the steps:\n",
    "\n",
    "1) Try out the simulation and read the text (in the left margin of the page) that explains the model.\n",
    "\n",
    "2) Think about what aspects of the model you will replicate and what you will leave out.\n",
    "\n",
    "3) Think about a parameter you might vary to see what effect it has.\n",
    "\n",
    "4) Implement the model and see if it exhibits spontaneous synchronization.\n",
    "\n",
    "5) Identify a parameter that can control whether synchronization occurs or not."
   ]
  },
  {
   "cell_type": "markdown",
   "metadata": {},
   "source": [
    "You should spend a minimum of 1.5 on this activity and a maximum of 3 hours. It might not be possible to complete all five steps in this time, but that's ok.\n",
    "The goals of this activity are to practice the initial stages of a project and to develop rapid prototyping skills.\n",
    "\n",
    "Some design decisions you should consider:\n",
    "\n",
    "* What is the nature of the space the fireflies live in? It could be a grid, a network, or continuous space in 1, 2, or 3 dimensions.\n",
    "\n",
    "* Do fireflies move in space, and how?\n",
    "\n",
    "* Which fireflies can \"see\" each other, and how do they interact?\n",
    "\n",
    "* How will you display the results, and how will you determine whether syncronization has occurred. (Animated displays are cool, but they might not be necessary and they can be a time sink.)"
   ]
  },
  {
   "cell_type": "markdown",
   "metadata": {},
   "source": [
    "You are welcome to use external resources for this activity, but you should give credit to any resources you make substantial use of.\n",
    "\n",
    "You can discuss your plans with the instructor and other students. You can get help debugging, if needed. But the result should be substantially your own, independent work.\n",
    "\n",
    "Assuming that, as a class, we explore a variety of models and implementations, we should have some interesting results to compare!"
   ]
  },
  {
   "cell_type": "markdown",
   "metadata": {},
   "source": [
    "## Allen's solution\n",
    "\n",
    "I decided to put 100 fireflies in a WS graphs with k=10, so each firefly sees 10 neighbors.\n",
    "\n",
    "With p=0, it's a ring lattice."
   ]
  },
  {
   "cell_type": "code",
   "execution_count": 604,
   "metadata": {},
   "outputs": [],
   "source": [
    "import networkx as nx\n",
    "\n",
    "n = 100\n",
    "k = 10\n",
    "p = 0.0\n",
    "\n",
    "G = nx.watts_strogatz_graph(n, k, p, seed=None)"
   ]
  },
  {
   "cell_type": "markdown",
   "metadata": {},
   "source": [
    "For the step function, I made some initial guesses based on the description in the text, but I couldn't get the fireflies to synchronize.\n",
    "\n",
    "I read [the source code](https://github.com/ncase/fireflies/blob/165d16c926a611db7e977e4d83a3f0428b3fbffd/js/index.js) starting on line 227 and tried to implement the same algorithm. "
   ]
  },
  {
   "cell_type": "code",
   "execution_count": 606,
   "metadata": {},
   "outputs": [],
   "source": [
    "nudge_size = 0.01\n",
    "\n",
    "def step(clocks):\n",
    "    clocks += 0.1\n",
    "    flash = (clocks >= 1)\n",
    "    clocks[flash] = 0\n",
    "    \n",
    "    indices, = np.nonzero(flash)    \n",
    "    for index in indices:\n",
    "        neighbors = list(G[index])\n",
    "        clocks[neighbors] += nudge_size    \n",
    "        clocks[clocks>1] = 1\n",
    "        \n",
    "    return flash.sum()"
   ]
  },
  {
   "cell_type": "code",
   "execution_count": 611,
   "metadata": {},
   "outputs": [],
   "source": [
    "nudge_size = 0.05\n",
    "\n",
    "def step(clocks):\n",
    "    num_flash = 0\n",
    "    \n",
    "    for i in range(len(clocks)):\n",
    "        clocks[i] += 0.1\n",
    "        if clocks[i] > 1:\n",
    "            num_flash += 1\n",
    "            clocks[i] = 0\n",
    "    \n",
    "        for j in G[i]:\n",
    "            clocks[j] += clocks[j] * nudge_size    \n",
    "            if clocks[j] > 1:\n",
    "                clocks[j] = 1\n",
    "        \n",
    "    return num_flash"
   ]
  },
  {
   "cell_type": "code",
   "execution_count": 616,
   "metadata": {},
   "outputs": [
    {
     "data": {
      "text/plain": [
       "0.49647524727207376"
      ]
     },
     "execution_count": 616,
     "metadata": {},
     "output_type": "execute_result"
    }
   ],
   "source": [
    "np.random.seed(16)\n",
    "clocks = np.random.uniform(0, 1, size=n)\n",
    "clocks.mean()"
   ]
  },
  {
   "cell_type": "code",
   "execution_count": 617,
   "metadata": {},
   "outputs": [
    {
     "data": {
      "text/plain": [
       "0.462952357242777"
      ]
     },
     "execution_count": 617,
     "metadata": {},
     "output_type": "execute_result"
    }
   ],
   "source": [
    "step(clocks)\n",
    "clocks.mean()"
   ]
  },
  {
   "cell_type": "code",
   "execution_count": 618,
   "metadata": {},
   "outputs": [],
   "source": [
    "ts = range(50)\n",
    "flashes = [step(clocks) for t in ts]"
   ]
  },
  {
   "cell_type": "code",
   "execution_count": 619,
   "metadata": {},
   "outputs": [
    {
     "data": {
      "text/plain": [
       "[<matplotlib.lines.Line2D at 0x7f46d2487c10>]"
      ]
     },
     "execution_count": 619,
     "metadata": {},
     "output_type": "execute_result"
    },
    {
     "data": {
      "image/png": "[encoded data removed]",
      "text/plain": [
       "<Figure size 432x288 with 1 Axes>"
      ]
     },
     "metadata": {
      "needs_background": "light"
     },
     "output_type": "display_data"
    }
   ],
   "source": [
    "plt.plot(ts, flashes)"
   ]
  },
  {
   "cell_type": "code",
   "execution_count": null,
   "metadata": {},
   "outputs": [],
   "source": []
  },
  {
   "cell_type": "code",
   "execution_count": null,
   "metadata": {},
   "outputs": [],
   "source": []
  }
 ],
 "metadata": {
  "kernelspec": {
   "display_name": "Python 3 (ipykernel)",
   "language": "python",
   "name": "python3"
  },
  "language_info": {
   "codemirror_mode": {
    "name": "ipython",
    "version": 3
   },
   "file_extension": ".py",
   "mimetype": "text/x-python",
   "name": "python",
   "nbconvert_exporter": "python",
   "pygments_lexer": "ipython3",
   "version": "3.7.11"
  }
 },
 "nbformat": 4,
 "nbformat_minor": 4
}
