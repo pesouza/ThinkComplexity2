{
 "cells": [
  {
   "cell_type": "markdown",
   "metadata": {
    "tags": []
   },
   "source": [
    "# Quiz 3\n",
    "\n",
    "BEFORE YOU START THIS QUIZ:\n",
    "\n",
    "1. Click on \"Copy to Drive\" to make a copy of the quiz\n",
    "\n",
    "2. Click on \"Share\",\n",
    "    \n",
    "3. Click on \"Change\" and select \"Anyone with this link can edit\"\n",
    "    \n",
    "4. Click \"Copy link\" and\n",
    "\n",
    "5. Paste the link into [this Canvas assignment](https://canvas.olin.edu/courses/315/assignments/4975).\n",
    "\n",
    "This quiz is based on Chapters 6 and 7 of [Think Complexity, 2nd edition](https://thinkcomplex.com).\n",
    "\n",
    "Copyright 2021 Allen Downey, [MIT License](http://opensource.org/licenses/MIT)"
   ]
  },
  {
   "cell_type": "code",
   "execution_count": 1,
   "metadata": {},
   "outputs": [],
   "source": [
    "from os.path import basename, exists\n",
    "\n",
    "def download(url):\n",
    "    filename = basename(url)\n",
    "    if not exists(filename):\n",
    "        from urllib.request import urlretrieve\n",
    "        local, _ = urlretrieve(url, filename)\n",
    "        print('Downloaded ' + local)\n",
    "    \n",
    "download('https://github.com/AllenDowney/ThinkComplexity2/raw/master/notebooks/utils.py')\n",
    "download('https://github.com/AllenDowney/ThinkComplexity2/raw/master/notebooks/Cell2D.py')"
   ]
  },
  {
   "cell_type": "code",
   "execution_count": 2,
   "metadata": {},
   "outputs": [],
   "source": [
    "import matplotlib.pyplot as plt\n",
    "import numpy as np\n",
    "import networkx as nx\n",
    "\n",
    "from utils import decorate"
   ]
  },
  {
   "cell_type": "markdown",
   "metadata": {},
   "source": [
    "## Question 1\n",
    "\n",
    "In the Game of Life, the next state of each cell depends on its current state and the number of neighboring live cells.\n",
    "\n",
    "Let's generalize that: suppose the next state of each cell depends on its own state and the states of its eight neighbors (not just the total).  How many different rule tables are there for this kind of cellular automaton?\n",
    "\n",
    "Please state you answer as a mathematical expression, but also feel free to compute it."
   ]
  },
  {
   "cell_type": "code",
   "execution_count": 3,
   "metadata": {},
   "outputs": [],
   "source": []
  },
  {
   "cell_type": "code",
   "execution_count": 4,
   "metadata": {},
   "outputs": [],
   "source": []
  },
  {
   "cell_type": "markdown",
   "metadata": {},
   "source": [
    "## Question 2\n",
    "\n",
    "The following cell contains the Game of Life code from Chapter 6."
   ]
  },
  {
   "cell_type": "code",
   "execution_count": 5,
   "metadata": {},
   "outputs": [],
   "source": [
    "from scipy.signal import correlate2d\n",
    "from Cell2D import Cell2D\n",
    "\n",
    "class Life(Cell2D):\n",
    "    \"\"\"Implementation of Conway's Game of Life.\"\"\"\n",
    "    kernel = np.array([[1, 1, 1],\n",
    "                       [1,10, 1],\n",
    "                       [1, 1, 1]])\n",
    "\n",
    "    table = np.zeros(20, dtype=np.uint8)\n",
    "    table[[3, 12, 13]] = 1\n",
    "\n",
    "    def step(self):\n",
    "        \"\"\"Executes one time step.\"\"\"\n",
    "        c = correlate2d(self.array, self.kernel, mode='same')\n",
    "        self.array = self.table[c]"
   ]
  },
  {
   "cell_type": "markdown",
   "metadata": {},
   "source": [
    "Make a modified version of this class that implements a variation of Game of Life with the following rules.\n",
    "\n",
    "* The future state of a cell depends on its current state and the state of its eight neighbors, as in Game of Life.\n",
    "\n",
    "* However, unlike in Game of Life, this variation distinguishes between the four adjacent neighbors (north, south, east, and west) and the four diagonal neighbors (northeast, southeast, etc.)\n",
    "\n",
    "* If a cell is alive, it stays alive only if the number of live adjacent neighbors is even.\n",
    "\n",
    "* If a cell is dead, it comes to life only if the number of live diagonal neighbors is odd.\n",
    "\n",
    "Hint: One way to implement these rules is to call `correlate2d` twice and use array logic operations. Another option is to call `correlate2d` once and use a table."
   ]
  },
  {
   "cell_type": "code",
   "execution_count": 6,
   "metadata": {},
   "outputs": [],
   "source": []
  },
  {
   "cell_type": "code",
   "execution_count": 7,
   "metadata": {},
   "outputs": [],
   "source": []
  },
  {
   "cell_type": "markdown",
   "metadata": {},
   "source": [
    "You can use the code below to test your implementation of these rules."
   ]
  },
  {
   "cell_type": "code",
   "execution_count": 8,
   "metadata": {},
   "outputs": [],
   "source": [
    "n = 100\n",
    "life = Life(n, n)\n",
    "life.add_cells(n//2, n//2, '1')\n",
    "life.draw()"
   ]
  },
  {
   "cell_type": "code",
   "execution_count": 9,
   "metadata": {},
   "outputs": [],
   "source": [
    "life.step()\n",
    "life.draw()"
   ]
  },
  {
   "cell_type": "code",
   "execution_count": 10,
   "metadata": {},
   "outputs": [],
   "source": [
    "life.animate(49, 0.01)"
   ]
  },
  {
   "cell_type": "markdown",
   "metadata": {},
   "source": [
    "If things have gone according to plan, the result should look like this."
   ]
  },
  {
   "cell_type": "code",
   "execution_count": 11,
   "metadata": {},
   "outputs": [],
   "source": [
    "bits = np.array([  0,   0,   0,   0,   0,   0,   0,   0,   0,   0,   0,   0,   5,\n",
    "         0,   0,   0,   5,   0,   0,   0,   5,   0,   0,   0,   5,  32,\n",
    "         0,   0,   0,  32,   0,   0,   0,  32,   0,   0,   0,  37,  85,\n",
    "        85,  85,  84,   0,   0,   0,   1,  85,  85,  85,  85,   8, 136,\n",
    "       136, 136, 160,   0,   0,   0,  40, 136, 136, 136, 129,  80,  80,\n",
    "        80,  85,   0,   0,   0,   5,  80,  80,  80,  84,   2, 138, 138,\n",
    "       138, 128,   0,   0,   0,  10, 138, 138, 138,   1,  85,  64,  21,\n",
    "        64,   0,   0,   0,   0,  21,  64,  21,  84,  10, 138, 138, 138,\n",
    "       128,   0,   0,   0,  10, 138, 138, 138, 129,  21,  80,  85,  80,\n",
    "         0,   0,   0,   0,  85,  80,  85,  68,   0,  40, 136, 168, 128,\n",
    "         0,   0,   0,   8, 168, 136, 160,   1,  21,  85,  84,   0,   0,\n",
    "         0,   0,   0,   1,  85,  85,  68,  10, 168, 136, 168, 128,   0,\n",
    "         0,   0,   8, 168, 136, 170, 129,  85,  80,  85,  80,   0,   0,\n",
    "         0,   0,  85,  80,  85,  84,   2, 130, 138, 170, 128,   0,   0,\n",
    "         0,  10, 170, 138,  10,   1,  69,  85,  65,  64,   0,   0,   0,\n",
    "         0,  20,  21,  85,  20,  10, 170, 138, 162, 128,   0,   0,   0,\n",
    "        10,  42, 138, 170, 129,   1,  21,  85,  80,   0,   0,   0,   0,\n",
    "        85,  85,  68,   4,   0,   0,  40, 128, 128,   0,   0,   0,   8,\n",
    "         8, 160,   0,   1,   1,  21,  85,  85,  85,  85,  85,  85,  85,\n",
    "        85,  68,   4,  10, 170, 168, 136, 136, 136, 136, 136, 136, 136,\n",
    "       170, 170, 129,  69,  85,  80,  80,  80,  80,  80,  80,  80,  85,\n",
    "        85,  20,   2, 130, 130, 138, 138, 138, 138, 138, 138, 138,  10,\n",
    "        10,   1,  85,  69,  85,  64,  21,  64,  21,  64,  21,  85,  21,\n",
    "        84,  10, 170, 170, 138, 138, 138, 138, 138, 138, 138, 170, 170,\n",
    "       129,  21,  69,  21,  80,  85,  80,  85,  80,  85,  69,  21,  68,\n",
    "         0,  42, 128,  40, 136, 168, 136, 168, 136, 160,  10, 160,   1,\n",
    "        20,  85,  21,  85,  84,   0,   1,  85,  85,  69,  81,  68,  10,\n",
    "       170,  10, 168, 136, 168, 136, 168, 136, 170, 130, 170, 129,  84,\n",
    "        85,  85,  80,  85,  80,  85,  80,  85,  85,  81,  84,   2, 130,\n",
    "       130, 130, 138, 170, 138, 170, 138,  10,  10,  10,   1,  68,  69,\n",
    "        69,  85,  65,  64,  20,  21,  85,  21,  17,  20,  10, 170, 170,\n",
    "       170, 138, 162, 138,  42, 138, 170, 170, 170, 133,  64,   1,   1,\n",
    "        21,  85,  80,  85,  85,  68,   4,   0,  21,  40,   0,   0,   0,\n",
    "        40, 128, 136,   8, 160,   0,   0,   0, 164,  64,   1,   1,  21,\n",
    "        85,  85,  85,  85,  68,   4,   0,  17,   0,   0,  10, 170, 168,\n",
    "       136, 136, 136, 170, 170, 128,   0,   0,   0,   1,  69,  85,  80,\n",
    "        80,  80,  85,  85,  20,   0,   0,   0,   0,   2, 130, 130, 138,\n",
    "       138, 138,  10,  10,   0,   0,   0,   0,   1,  85,  69,  85,  64,\n",
    "        21,  85,  21,  84,   0,   0,   0,   0,  10, 170, 170, 138, 138,\n",
    "       138, 170, 170, 128,   0,   0,   0,   1,  21,  69,  21,  80,  85,\n",
    "        69,  21,  68,   0,   0,   0,   0,   0,  42, 128,  40, 136, 160,\n",
    "        10, 160,   0,   0,   0,   0,   1,  20,  85,  21,  85,  85,  69,\n",
    "        81,  68,   0,   0,   0,   0,  10, 170,  10, 168, 136, 170, 130,\n",
    "       170, 128,   0,   0,   0,   1,  84,  85,  85,  80,  85,  85,  81,\n",
    "        84,   0,   0,   0,   0,   2, 130, 130, 130, 138,  10,  10,  10,\n",
    "         0,   0,   0,   0,   1,  68,  69,  69,  85,  85,  21,  17,  20,\n",
    "         0,   0,   0,   0,  10, 170, 170, 170, 138, 170, 170, 170, 128,\n",
    "         0,   0,   0,   1,   0,   1,   1,  21,  68,   4,   0,   4,   0,\n",
    "         0,   0,   0,   0,   0,   0,   0,  32,   0,   0,   0,   0,   0,\n",
    "         0,   0,   1,   0,   1,   1,  21,  68,   4,   0,   4,   0,   0,\n",
    "         0,   0,  10, 170, 170, 170, 138, 170, 170, 170, 128,   0,   0,\n",
    "         0,   1,  68,  69,  69,  85,  85,  21,  17,  20,   0,   0,   0,\n",
    "         0,   2, 130, 130, 130, 138,  10,  10,  10,   0,   0,   0,   0,\n",
    "         1,  84,  85,  85,  80,  85,  85,  81,  84,   0,   0,   0,   0,\n",
    "        10, 170,  10, 168, 136, 170, 130, 170, 128,   0,   0,   0,   1,\n",
    "        20,  85,  21,  85,  85,  69,  81,  68,   0,   0,   0,   0,   0,\n",
    "        42, 128,  40, 136, 160,  10, 160,   0,   0,   0,   0,   1,  21,\n",
    "        69,  21,  80,  85,  69,  21,  68,   0,   0,   0,   0,  10, 170,\n",
    "       170, 138, 138, 138, 170, 170, 128,   0,   0,   0,   1,  85,  69,\n",
    "        85,  64,  21,  85,  21,  84,   0,   0,   0,   0,   2, 130, 130,\n",
    "       138, 138, 138,  10,  10,   0,   0,   0,   0,   1,  69,  85,  80,\n",
    "        80,  80,  85,  85,  20,   0,   0,   0,   0,  10, 170, 168, 136,\n",
    "       136, 136, 170, 170, 128,   0,   4,  64,   1,   1,  21,  85,  85,\n",
    "        85,  85,  68,   4,   0,  17,  40,   0,   0,   0,  40, 128, 136,\n",
    "         8, 160,   0,   0,   0, 165,  64,   1,   1,  21,  85,  80,  85,\n",
    "        85,  68,   4,   0,  21,  10, 170, 170, 170, 138, 162, 138,  42,\n",
    "       138, 170, 170, 170, 129,  68,  69,  69,  85,  65,  64,  20,  21,\n",
    "        85,  21,  17,  20,   2, 130, 130, 130, 138, 170, 138, 170, 138,\n",
    "        10,  10,  10,   1,  84,  85,  85,  80,  85,  80,  85,  80,  85,\n",
    "        85,  81,  84,  10, 170,  10, 168, 136, 168, 136, 168, 136, 170,\n",
    "       130, 170, 129,  20,  85,  21,  85,  84,   0,   1,  85,  85,  69,\n",
    "        81,  68,   0,  42, 128,  40, 136, 168, 136, 168, 136, 160,  10,\n",
    "       160,   1,  21,  69,  21,  80,  85,  80,  85,  80,  85,  69,  21,\n",
    "        68,  10, 170, 170, 138, 138, 138, 138, 138, 138, 138, 170, 170,\n",
    "       129,  85,  69,  85,  64,  21,  64,  21,  64,  21,  85,  21,  84,\n",
    "         2, 130, 130, 138, 138, 138, 138, 138, 138, 138,  10,  10,   1,\n",
    "        69,  85,  80,  80,  80,  80,  80,  80,  80,  85,  85,  20,  10,\n",
    "       170, 168, 136, 136, 136, 136, 136, 136, 136, 170, 170, 129,   1,\n",
    "        21,  85,  85,  85,  85,  85,  85,  85,  85,  68,   4,   0,   0,\n",
    "        40, 128, 128,   0,   0,   0,   8,   8, 160,   0,   1,   1,  21,\n",
    "        85,  80,   0,   0,   0,   0,  85,  85,  68,   4,  10, 170, 138,\n",
    "       162, 128,   0,   0,   0,  10,  42, 138, 170, 129,  69,  85,  65,\n",
    "        64,   0,   0,   0,   0,  20,  21,  85,  20,   2, 130, 138, 170,\n",
    "       128,   0,   0,   0,  10, 170, 138,  10,   1,  85,  80,  85,  80,\n",
    "         0,   0,   0,   0,  85,  80,  85,  84,  10, 168, 136, 168, 128,\n",
    "         0,   0,   0,   8, 168, 136, 170, 129,  21,  85,  84,   0,   0,\n",
    "         0,   0,   0,   1,  85,  85,  68,   0,  40, 136, 168, 128,   0,\n",
    "         0,   0,   8, 168, 136, 160,   1,  21,  80,  85,  80,   0,   0,\n",
    "         0,   0,  85,  80,  85,  68,  10, 138, 138, 138, 128,   0,   0,\n",
    "         0,  10, 138, 138, 138, 129,  85,  64,  21,  64,   0,   0,   0,\n",
    "         0,  21,  64,  21,  84,   2, 138, 138, 138, 128,   0,   0,   0,\n",
    "        10, 138, 138, 138,   1,  80,  80,  80,  85,   0,   0,   0,   5,\n",
    "        80,  80,  80,  84,   8, 136, 136, 136, 160,   0,   0,   0,  40,\n",
    "       136, 136, 136, 133,  85,  85,  85,  84,   0,   0,   0,   1,  85,\n",
    "        85,  85,  85,  32,   0,   0,   0,  32,   0,   0,   0,  32,   0,\n",
    "         0,   0,  37,   0,   0,   0,   5,   0,   0,   0,   5,   0,   0,\n",
    "         0,   5], dtype=np.uint8)"
   ]
  },
  {
   "cell_type": "code",
   "execution_count": 12,
   "metadata": {},
   "outputs": [],
   "source": [
    "life2 = Life(100)\n",
    "life2.array = np.unpackbits(bits).reshape(n, n)\n",
    "life2.draw()"
   ]
  },
  {
   "cell_type": "markdown",
   "metadata": {},
   "source": [
    "## Question 3\n",
    "\n",
    "The result from the previous question appears to be fractal. But some things that appear fractal are actually not, so let's check.\n",
    "\n",
    "The following loop implements something like a box-counting algorithm:\n",
    "\n",
    "* Starting in the middle of the array, it counts the number of live cells in a small box.\n",
    "\n",
    "* Then it increases the size of the box, growing toward the boundaries.\n",
    "\n",
    "* For each box size, it counts the number of live cells.\n",
    "\n",
    "The result is a list of `(x, y)` pairs, where `x` is half the width (and height) of the box, and `y` is the number of live cells."
   ]
  },
  {
   "cell_type": "code",
   "execution_count": 17,
   "metadata": {},
   "outputs": [],
   "source": [
    "n, m = life2.array.shape\n",
    "\n",
    "half = n//2\n",
    "\n",
    "res = []\n",
    "xs = range(1, half)\n",
    "for x in xs:\n",
    "    low, high = half-x, half+x\n",
    "    y = life2.array[low:high, low:high].sum()\n",
    "    res.append((x, y))\n",
    "\n",
    "xs, ys = np.transpose(res)"
   ]
  },
  {
   "cell_type": "markdown",
   "metadata": {},
   "source": [
    "To interpret these results:\n",
    "\n",
    "* Make an appropriate plot and write a sentence or two to interpret it.\n",
    "\n",
    "* Estimate the fractal dimension and write a sentence or two to interpret the result.\n"
   ]
  },
  {
   "cell_type": "code",
   "execution_count": 14,
   "metadata": {},
   "outputs": [],
   "source": []
  },
  {
   "cell_type": "code",
   "execution_count": 15,
   "metadata": {},
   "outputs": [],
   "source": []
  },
  {
   "cell_type": "code",
   "execution_count": 16,
   "metadata": {},
   "outputs": [],
   "source": []
  },
  {
   "cell_type": "code",
   "execution_count": null,
   "metadata": {},
   "outputs": [],
   "source": []
  }
 ],
 "metadata": {
  "kernelspec": {
   "display_name": "Python 3 (ipykernel)",
   "language": "python",
   "name": "python3"
  },
  "language_info": {
   "codemirror_mode": {
    "name": "ipython",
    "version": 3
   },
   "file_extension": ".py",
   "mimetype": "text/x-python",
   "name": "python",
   "nbconvert_exporter": "python",
   "pygments_lexer": "ipython3",
   "version": "3.7.11"
  }
 },
 "nbformat": 4,
 "nbformat_minor": 4
}
