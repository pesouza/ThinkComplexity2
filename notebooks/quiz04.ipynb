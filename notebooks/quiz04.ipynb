{
 "cells": [
  {
   "cell_type": "markdown",
   "metadata": {
    "tags": []
   },
   "source": [
    "# Quiz 4\n",
    "\n",
    "BEFORE YOU START THIS QUIZ:\n",
    "\n",
    "1. Click on \"Copy to Drive\" to make a copy of the quiz\n",
    "\n",
    "2. Click on \"Share\",\n",
    "    \n",
    "3. Click on \"Change\" and select \"Anyone with this link can edit\"\n",
    "    \n",
    "4. Click \"Copy link\" and\n",
    "\n",
    "5. Paste the link into [this Canvas assignment](https://canvas.olin.edu/courses/315/assignments/5071).\n",
    "\n",
    "This quiz is based on Chapters 9 and 10 of [Think Complexity, 2nd edition](https://thinkcomplex.com).\n",
    "\n",
    "Copyright 2021 Allen Downey, [MIT License](http://opensource.org/licenses/MIT)"
   ]
  },
  {
   "cell_type": "code",
   "execution_count": 2,
   "metadata": {},
   "outputs": [],
   "source": [
    "from os.path import basename, exists\n",
    "\n",
    "def download(url):\n",
    "    filename = basename(url)\n",
    "    if not exists(filename):\n",
    "        from urllib.request import urlretrieve\n",
    "        local, _ = urlretrieve(url, filename)\n",
    "        print('Downloaded ' + local)\n",
    "    \n",
    "download('https://github.com/AllenDowney/ThinkComplexity2/raw/master/notebooks/utils.py')\n"
   ]
  },
  {
   "cell_type": "code",
   "execution_count": 3,
   "metadata": {},
   "outputs": [],
   "source": [
    "import matplotlib.pyplot as plt\n",
    "import numpy as np\n",
    "import networkx as nx\n",
    "\n",
    "from utils import decorate"
   ]
  },
  {
   "cell_type": "markdown",
   "metadata": {},
   "source": [
    "## Fireflies\n",
    "\n",
    "In Chapter 1 of Think Complexity, I wrote about Strogatz's model of spontaneous synchronization in some species of fireflies and his proof that “sync was inevitable”. I said:\n",
    "\n",
    "> Strogatz makes several simplifying assumptions, in particular that each firefly can see all the others. In my opinion, it is more interesting to explain how an entire valley of fireflies can synchronize despite the fact that they cannot all see each other.\n",
    ">\n",
    ">Explanations of these phenomena often use agent-based models, which explore ... the conditions that allow or prevent synchronization.\n",
    "\n",
    "So let's get back to that.\n",
    "\n",
    "Among many other awesome projects, [Nicky Case](https://ncase.me/faq/) has developed an online simulation of firefly synchronization, [which you can run here](https://ncase.me/fireflies/)."
   ]
  },
  {
   "cell_type": "markdown",
   "metadata": {},
   "source": [
    "The goal of this activity is to replicate their model and explore its behavior as we vary some of its parameters.\n",
    "\n",
    "Here are the steps:\n",
    "\n",
    "1) Try out the simulation and read the text (in the left margin of the page) that explains the model.\n",
    "\n",
    "2) Think about what aspects of the model you will replicate and what you will leave out.\n",
    "\n",
    "3) Think about a parameter you might vary to see what effect it has.\n",
    "\n",
    "4) Implement the model and see if it exhibits spontaneous synchronization.\n",
    "\n",
    "5) Identify a parameter that can control whether synchronization occurs or not."
   ]
  },
  {
   "cell_type": "markdown",
   "metadata": {},
   "source": [
    "You should spend a minimum of 1.5 on this activity and a maximum of 3 hours. It might not be possible to complete all five steps in this time, but that's ok.\n",
    "The goals of this activity are to practice the initial stages of a project and to develop rapid prototyping skills.\n",
    "\n",
    "Some design decisions you should consider:\n",
    "\n",
    "* What is the nature of the space the fireflies live in? It could be a grid, a network, or continuous space in 1, 2, or 3 dimensions.\n",
    "\n",
    "* Do fireflies move in space, and how?\n",
    "\n",
    "* Which fireflies can \"see\" each other, and how do they interact?\n",
    "\n",
    "* How will you display the results, and how will you determine whether syncronization has occurred. (Animated displays are cool, but they might not be necessary and they can be a time sink.)"
   ]
  },
  {
   "cell_type": "markdown",
   "metadata": {},
   "source": [
    "You are welcome to use external resources for this activity, but you should give credit to any resources you make substantial use of.\n",
    "\n",
    "You can discuss your plans with the instructor and other students. You can get help debugging, if needed. But the result should be substantially your own, independent work.\n",
    "\n",
    "Assuming that, as a class, we explore a variety of models and implementations, we should have some interesting results to compare!"
   ]
  },
  {
   "cell_type": "code",
   "execution_count": null,
   "metadata": {},
   "outputs": [],
   "source": []
  }
 ],
 "metadata": {
  "kernelspec": {
   "display_name": "Python 3 (ipykernel)",
   "language": "python",
   "name": "python3"
  },
  "language_info": {
   "codemirror_mode": {
    "name": "ipython",
    "version": 3
   },
   "file_extension": ".py",
   "mimetype": "text/x-python",
   "name": "python",
   "nbconvert_exporter": "python",
   "pygments_lexer": "ipython3",
   "version": "3.7.11"
  }
 },
 "nbformat": 4,
 "nbformat_minor": 4
}
