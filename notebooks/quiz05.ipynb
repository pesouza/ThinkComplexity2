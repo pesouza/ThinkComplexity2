{
 "cells": [
  {
   "cell_type": "markdown",
   "metadata": {
    "tags": []
   },
   "source": [
    "# Quiz 5\n",
    "\n",
    "BEFORE YOU START THIS QUIZ:\n",
    "\n",
    "1. Click on \"Copy to Drive\" to make a copy of the quiz\n",
    "\n",
    "2. Click on \"Share\",\n",
    "    \n",
    "3. Click on \"Change\" and select \"Anyone with this link can edit\"\n",
    "    \n",
    "4. Click \"Copy link\" and\n",
    "\n",
    "5. Paste the link into [this Canvas assignment](https://canvas.olin.edu/courses/315/assignments/5149).\n",
    "\n",
    "Copyright 2021 Allen Downey, [MIT License](http://opensource.org/licenses/MIT)"
   ]
  },
  {
   "cell_type": "code",
   "execution_count": 28,
   "metadata": {},
   "outputs": [],
   "source": [
    "try:\n",
    "    import empiricaldist\n",
    "except ImportError:\n",
    "    !pip install empiricaldist"
   ]
  },
  {
   "cell_type": "code",
   "execution_count": 1,
   "metadata": {},
   "outputs": [],
   "source": [
    "from os.path import basename, exists\n",
    "\n",
    "def download(url):\n",
    "    filename = basename(url)\n",
    "    if not exists(filename):\n",
    "        from urllib.request import urlretrieve\n",
    "        local, _ = urlretrieve(url, filename)\n",
    "        print('Downloaded ' + local)\n",
    "    \n",
    "download('https://github.com/AllenDowney/ThinkComplexity2/raw/master/notebooks/utils.py')\n"
   ]
  },
  {
   "cell_type": "code",
   "execution_count": 2,
   "metadata": {},
   "outputs": [],
   "source": [
    "import matplotlib.pyplot as plt\n",
    "import numpy as np\n",
    "import networkx as nx\n",
    "\n",
    "from utils import decorate"
   ]
  },
  {
   "cell_type": "markdown",
   "metadata": {},
   "source": [
    "## The Constitution of Knowledge\n",
    "\n",
    "This question is inspired by Jonathan Rauch's book *The Constitution of Knowledge*, which talks about ways science works as a social enterprise.\n",
    "Reading it, I thought of an agent-based model we could use to study the dynamics of knowledge creation and dissemination.\n",
    "\n",
    "In the model, an agent represents a scientist with a belief about whether a hypothesis is true.\n",
    "Beliefs are represented in the form of probabilities, so one scientist might say there is a 25% chance the hypothesis is true; another might say there is a 75% chance.\n",
    "\n",
    "In my implementation, these probabilities are stored and computed using\n",
    "log-odds rather than probabilities.\n",
    "Log-odds and probabilities are equivalent in the sense that if you are given either, you can compute the other.\n",
    "To convert from log-odds to probabilities, we can use the `expit` function.\n",
    "\n",
    "As an example, suppose there are five people with different beliefs, like this:"
   ]
  },
  {
   "cell_type": "code",
   "execution_count": 3,
   "metadata": {},
   "outputs": [],
   "source": [
    "beliefs = [-2, -1, 0, 1, 2]"
   ]
  },
  {
   "cell_type": "markdown",
   "metadata": {},
   "source": [
    "We can convert their beliefs to probabilities like this:"
   ]
  },
  {
   "cell_type": "code",
   "execution_count": 4,
   "metadata": {},
   "outputs": [],
   "source": [
    "from scipy.special import expit\n",
    "\n",
    "probs = expit(beliefs)\n",
    "probs"
   ]
  },
  {
   "cell_type": "markdown",
   "metadata": {},
   "source": [
    "On the log-odds scale, the value `-2` corresponds to a probability around 12%, which represents the belief that the hypothesis is probably false.\n",
    "The value `2` corresponds to probability 88%, which is probably true.\n",
    "\n",
    "The log-odds scale makes it easy to update beliefs in light of new evidence.\n",
    "For example, suppose someone does an experiment that provides evidence in favor of the hypothesis with a log-odds ratio of `0.5`.\n",
    "\n",
    "In light of this evidence, the scientists can update their beliefs by adding `0.5` to their prior beliefs."
   ]
  },
  {
   "cell_type": "code",
   "execution_count": 5,
   "metadata": {},
   "outputs": [],
   "source": [
    "new_beliefs = np.array(beliefs) + 0.5\n",
    "new_beliefs"
   ]
  },
  {
   "cell_type": "markdown",
   "metadata": {},
   "source": [
    "Again, we can use `expit` to compute the corresponding probabilities."
   ]
  },
  {
   "cell_type": "code",
   "execution_count": 6,
   "metadata": {},
   "outputs": [],
   "source": [
    "new_probs = expit(new_beliefs)\n",
    "new_probs"
   ]
  },
  {
   "cell_type": "markdown",
   "metadata": {},
   "source": [
    "Having seen the new evidence, all of the the scientists are more confident that the hypothesis is true (although some still believe it is likely to be false)."
   ]
  },
  {
   "cell_type": "markdown",
   "metadata": {},
   "source": [
    "## Agents\n",
    "\n",
    "I'll use the following class to represent the scientists.\n",
    "Each scientist starts with a baseline belief, which is a random value from a normal distribution with mean `0` and standard deviation `1`.\n",
    "\n",
    "In addition, each scientist has a dictionary of evidence where each item is\n",
    "\n",
    "* An integer that uniquely identifies a piece of evidence, which maps to\n",
    "\n",
    "* A floating-point number that quantifies the strength of the evidence as a log-odds ratio."
   ]
  },
  {
   "cell_type": "code",
   "execution_count": 7,
   "metadata": {},
   "outputs": [],
   "source": [
    "class Agent:\n",
    "    def __init__(self):\n",
    "        self.baseline = np.random.normal(0, 1)\n",
    "        self.evidence = dict()\n",
    "        \n",
    "    def belief(self):\n",
    "        return self.baseline + sum(self.evidence.values())\n",
    "    \n",
    "    def update(self, evidence):\n",
    "        self.evidence.update(evidence)"
   ]
  },
  {
   "cell_type": "markdown",
   "metadata": {},
   "source": [
    "The `belief` method computes the agent's degree of belief in a hypothesis, which is the sum of their baseline belief and the total of all evidence they have seen.\n",
    "\n",
    "The `update` method updates an agent's belief by adding entries to their `evidence` dictionary.\n",
    "Because the keys in a dictionary are unique, a scientist who sees the same evidence twice will only add it to their dictionary once.\n",
    "\n",
    "To show how this works, I'll make 100 agents with random baseline beliefs:"
   ]
  },
  {
   "cell_type": "code",
   "execution_count": 8,
   "metadata": {},
   "outputs": [],
   "source": [
    "agents = [Agent() for i in range(100)]"
   ]
  },
  {
   "cell_type": "markdown",
   "metadata": {},
   "source": [
    "We can extract their total beliefs like this:"
   ]
  },
  {
   "cell_type": "code",
   "execution_count": 9,
   "metadata": {},
   "outputs": [],
   "source": [
    "beliefs = [agent.belief() for agent in agents]"
   ]
  },
  {
   "cell_type": "markdown",
   "metadata": {},
   "source": [
    "Because the agents haven't seen any evidence yet, the distribution of belief is normal with mean `0` and standard deviation `1`."
   ]
  },
  {
   "cell_type": "code",
   "execution_count": 10,
   "metadata": {},
   "outputs": [],
   "source": [
    "from empiricaldist import Cdf\n",
    "\n",
    "cdf = Cdf.from_seq(beliefs)\n",
    "cdf.plot()\n",
    "decorate(xlabel='Belief (log-odds)',\n",
    "         ylabel='CDF')"
   ]
  },
  {
   "cell_type": "markdown",
   "metadata": {},
   "source": [
    "We can convert the beliefs to probabilities like this:"
   ]
  },
  {
   "cell_type": "code",
   "execution_count": 11,
   "metadata": {},
   "outputs": [],
   "source": [
    "probs = expit(beliefs)"
   ]
  },
  {
   "cell_type": "markdown",
   "metadata": {},
   "source": [
    "And here's what the distribution looks like."
   ]
  },
  {
   "cell_type": "code",
   "execution_count": 12,
   "metadata": {},
   "outputs": [],
   "source": [
    "cdf = Cdf.from_seq(probs)\n",
    "cdf.plot()\n",
    "decorate(xlabel='Belief (probability)',\n",
    "         ylabel='CDF')"
   ]
  },
  {
   "cell_type": "markdown",
   "metadata": {},
   "source": [
    "The mean of this distribution is initially near 50%."
   ]
  },
  {
   "cell_type": "code",
   "execution_count": 13,
   "metadata": {},
   "outputs": [],
   "source": [
    "probs.mean()"
   ]
  },
  {
   "cell_type": "markdown",
   "metadata": {},
   "source": [
    "## Experiment 1\n",
    "\n",
    "Now let's see what happens if the scientists run experiments and gather evidence.\n",
    "\n",
    "The following function simulates a world where the hypothesis is true and every experiment yields evidence in favor of the hypothesis, with a log-odds ratio of `0.1` (which is one decibel).\n",
    "\n",
    "During each time step, one randomly-chosen agent does an experiment and uses the result to update their belief.  "
   ]
  },
  {
   "cell_type": "code",
   "execution_count": 14,
   "metadata": {},
   "outputs": [],
   "source": [
    "def run_simulation1(agents):\n",
    "    for key in range(100):\n",
    "        value = 0.1\n",
    "        agent = np.random.choice(agents)\n",
    "        agent.update({key: value})"
   ]
  },
  {
   "cell_type": "markdown",
   "metadata": {},
   "source": [
    "I'll use the following function to plot the distribution of probabilities before and after the simulation."
   ]
  },
  {
   "cell_type": "code",
   "execution_count": 15,
   "metadata": {},
   "outputs": [],
   "source": [
    "def plot_prob_dist(agents):\n",
    "    beliefs = [agent.belief() for agent in agents]\n",
    "    probs = expit(beliefs)\n",
    "    Cdf.from_seq(probs).plot()\n",
    "    decorate(xlabel='Belief (probability)',\n",
    "             ylabel='CDF')\n",
    "    return np.mean(beliefs)"
   ]
  },
  {
   "cell_type": "markdown",
   "metadata": {},
   "source": [
    "Here's what the results look like:"
   ]
  },
  {
   "cell_type": "code",
   "execution_count": 16,
   "metadata": {},
   "outputs": [],
   "source": [
    "num_steps = 100\n",
    "agents = [Agent() for i in range(num_steps)]\n",
    "\n",
    "mean_before = plot_prob_dist(agents)\n",
    "run_simulation1(agents)\n",
    "mean_after = plot_prob_dist(agents)\n",
    "\n",
    "mean_before, mean_after"
   ]
  },
  {
   "cell_type": "markdown",
   "metadata": {},
   "source": [
    "As you might expect, the experimental results shift the distributions to the right and increase the \"center of mass\", represented by the mean belief in log-odds.\n",
    "\n",
    "In this simulation, the scientists don't share information, so beliefs don't change very fast."
   ]
  },
  {
   "cell_type": "code",
   "execution_count": 17,
   "metadata": {},
   "outputs": [],
   "source": [
    "velocity = (mean_after - mean_before) / num_steps\n",
    "velocity"
   ]
  },
  {
   "cell_type": "markdown",
   "metadata": {},
   "source": [
    "The average change in belief is only 0.001 bels per time step."
   ]
  },
  {
   "cell_type": "markdown",
   "metadata": {},
   "source": [
    "## Experiment 2\n",
    "\n",
    "The previous experiment simulates a world where scientists work in isolation and do not share the evidence they discover with anyone.\n",
    "At the opposite extreme, suppose everyone broadcasts the results of their experiments and everyone else updates their beliefs accordingly.\n",
    "\n",
    "The following function simulates this behavior."
   ]
  },
  {
   "cell_type": "code",
   "execution_count": 18,
   "metadata": {},
   "outputs": [],
   "source": [
    "def run_simulation2(agents):\n",
    "    for key in range(100):\n",
    "        value = 0.1\n",
    "        for agent in agents:\n",
    "            agent.update({key: value})"
   ]
  },
  {
   "cell_type": "markdown",
   "metadata": {},
   "source": [
    "Here's what the results look like."
   ]
  },
  {
   "cell_type": "code",
   "execution_count": 19,
   "metadata": {},
   "outputs": [],
   "source": [
    "num_steps = 100\n",
    "agents = [Agent() for i in range(num_steps)]\n",
    "\n",
    "mean_before = plot_prob_dist(agents)\n",
    "run_simulation2(agents)\n",
    "mean_after = plot_prob_dist(agents)\n",
    "\n",
    "mean_before, mean_after"
   ]
  },
  {
   "cell_type": "markdown",
   "metadata": {},
   "source": [
    "In this utopia of scientific discourse, even the most skeptical scientist is quickly convinced that the hypothesis is likely to be true."
   ]
  },
  {
   "cell_type": "code",
   "execution_count": 20,
   "metadata": {},
   "outputs": [],
   "source": [
    "velocity = (mean_after - mean_before) / num_steps\n",
    "velocity"
   ]
  },
  {
   "cell_type": "markdown",
   "metadata": {},
   "source": [
    "And the average velocity is 0.1 bels per timestep, which is the rate at which new evidence enters the system."
   ]
  },
  {
   "cell_type": "markdown",
   "metadata": {},
   "source": [
    "## Experiment 3\n",
    "\n",
    "Of course, there are many ways the real world does not live up to this ideal.\n",
    "\n",
    "* For example, not every experiment is perfect; due to error and randomness, we expect variation in the strength of evidence and some possibility of finding evidence against the hypothesis, even if it is true.\n",
    "\n",
    "* The ways we have for sharing evidence are not perfect; not every scientist reads every paper.\n",
    "\n",
    "* And scientists themselves are not perfect; they are subject to the same biases and systematic errors as any other human.\n",
    "\n",
    "To get us started, I will explore the effect of the first phenomenon, imperfect experiments, and you will have a chance to explore one or more of the others.\n",
    "\n",
    "The following function simulates a world where the evidence we get from an experiment follows a normal distribution with mean 0.1 and standard deviation 0.1 (which means that it is sometimes negative).\n",
    "\n",
    "As in the previous simulation, all results are broadcast to all scientists."
   ]
  },
  {
   "cell_type": "code",
   "execution_count": 21,
   "metadata": {},
   "outputs": [],
   "source": [
    "def run_simulation3(agents, stddev=0.1):\n",
    "    for key in range(100):\n",
    "        value = np.random.normal(0.1, stddev)\n",
    "        for agent in agents:\n",
    "            agent.update({key: value})"
   ]
  },
  {
   "cell_type": "markdown",
   "metadata": {},
   "source": [
    "Here's what the results look like."
   ]
  },
  {
   "cell_type": "code",
   "execution_count": 22,
   "metadata": {},
   "outputs": [],
   "source": [
    "num_steps = 100\n",
    "agents = [Agent() for i in range(num_steps)]\n",
    "\n",
    "mean_before = plot_prob_dist(agents)\n",
    "run_simulation3(agents)\n",
    "mean_after = plot_prob_dist(agents)\n",
    "\n",
    "mean_before, mean_after"
   ]
  },
  {
   "cell_type": "markdown",
   "metadata": {},
   "source": [
    "In this version of the model, average velocity varies from one run to the next, but it is usually close to 0.1 bels per timestep."
   ]
  },
  {
   "cell_type": "code",
   "execution_count": 23,
   "metadata": {},
   "outputs": [],
   "source": [
    "velocity = (mean_after - mean_before) / num_steps\n",
    "velocity"
   ]
  },
  {
   "cell_type": "markdown",
   "metadata": {},
   "source": [
    "Let's see how it depends on the variability of evidence."
   ]
  },
  {
   "cell_type": "code",
   "execution_count": 24,
   "metadata": {},
   "outputs": [],
   "source": [
    "stddev_array = np.linspace(0, 1, 11)\n",
    "stddev_array"
   ]
  },
  {
   "cell_type": "code",
   "execution_count": 25,
   "metadata": {},
   "outputs": [],
   "source": [
    "def mean_belief(agents):\n",
    "    return np.mean([agent.belief() for agent in agents])"
   ]
  },
  {
   "cell_type": "code",
   "execution_count": 26,
   "metadata": {},
   "outputs": [],
   "source": [
    "num_steps = 100\n",
    "velocities = []\n",
    "\n",
    "for stddev in stddev_array:\n",
    "    mean_before = mean_belief(agents)\n",
    "    agents = [Agent() for i in range(num_steps)]\n",
    "    run_simulation3(agents, stddev)\n",
    "    mean_after = mean_belief(agents)\n",
    "    velocity = (mean_after - mean_before) / num_steps\n",
    "    velocities.append(velocity)"
   ]
  },
  {
   "cell_type": "code",
   "execution_count": 27,
   "metadata": {},
   "outputs": [],
   "source": [
    "plt.plot(stddev_array, velocities, 'C1')\n",
    "decorate(xlabel='Standard deviation of evidence',\n",
    "         ylabel='Velocity of knowledge')"
   ]
  },
  {
   "cell_type": "markdown",
   "metadata": {},
   "source": [
    "The standard deviation of evidence does not increase or decrease the velocity of knowledge, but it makes progress more variable from one run to the next, with the possibility of going in the wrong direction, at least for a while."
   ]
  },
  {
   "cell_type": "markdown",
   "metadata": {},
   "source": [
    "## Experiment 4\n",
    "\n",
    "Run an experiment that adds a feature to this model and tests its effect on the velocity of knowledge.\n",
    "\n",
    "* To model imperfections in the dissemination of knowledge, you could arrange the agents in space, or on a network, where they only share knowledge with neighbors.\n",
    "\n",
    "* To model imperfections in human behavior, you could model a phenomenon like confirmation bias, which is the tendency to accept new evidence only if it is consistent with your current beliefs. Or the possibility of counting the same piece of evidence more than once if you hear it from more than one source.\n",
    "\n",
    "Whatever feature you add, you should:\n",
    "\n",
    "1) Explain what behavior or structure in the real world the feature is meant to represent.\n",
    "\n",
    "2) Explain your implementation, that is, what changes you made in the code to add the feature,\n",
    "\n",
    "3) Run the experiment and compare the velocity of knowledge with and without the new feature.\n",
    "\n",
    "If possible, you should also:\n",
    "\n",
    "4) Define a parameter that quantifies the strength or severity of the new feature (like standard deviation in Experiment 3),\n",
    "\n",
    "5) Run the experiment with a range of values for that parameter, and\n",
    "\n",
    "6) Plot the velocity of knowledge as a function of the parameter.\n",
    "\n",
    "Finally, you should interpret the results in the context of the original question: what does your experiment tell us about the \"Constitution of Knowledge\"; that is, how does our ability to learn about the world depend on the behavior of scientists and how they share evidence?\n"
   ]
  },
  {
   "cell_type": "code",
   "execution_count": null,
   "metadata": {},
   "outputs": [],
   "source": []
  }
 ],
 "metadata": {
  "kernelspec": {
   "display_name": "Python 3 (ipykernel)",
   "language": "python",
   "name": "python3"
  },
  "language_info": {
   "codemirror_mode": {
    "name": "ipython",
    "version": 3
   },
   "file_extension": ".py",
   "mimetype": "text/x-python",
   "name": "python",
   "nbconvert_exporter": "python",
   "pygments_lexer": "ipython3",
   "version": "3.7.11"
  }
 },
 "nbformat": 4,
 "nbformat_minor": 4
}
