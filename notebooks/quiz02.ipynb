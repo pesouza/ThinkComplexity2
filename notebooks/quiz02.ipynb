{
 "cells": [
  {
   "cell_type": "markdown",
   "metadata": {
    "tags": []
   },
   "source": [
    "# Quiz 2\n",
    "\n",
    "BEFORE YOU START THIS QUIZ:\n",
    "\n",
    "1. Click on \"Copy to Drive\" to make a copy of the quiz\n",
    "\n",
    "2. Click on \"Share\",\n",
    "    \n",
    "3. Click on \"Change\" and select \"Anyone with this link can edit\"\n",
    "    \n",
    "4. Click \"Copy link\" and\n",
    "\n",
    "5. Paste the link into [this Canvas assignment](https://canvas.olin.edu/courses/315/assignments/4928).\n",
    "\n",
    "This quiz is based on Chapters 4 and 5 of [Think Complexity, 2nd edition](https://thinkcomplex.com).\n",
    "\n",
    "Copyright 2021 Allen Downey, [MIT License](http://opensource.org/licenses/MIT)"
   ]
  },
  {
   "cell_type": "code",
   "execution_count": 1,
   "metadata": {},
   "outputs": [],
   "source": [
    "from os.path import basename, exists\n",
    "\n",
    "def download(url):\n",
    "    filename = basename(url)\n",
    "    if not exists(filename):\n",
    "        from urllib.request import urlretrieve\n",
    "        local, _ = urlretrieve(url, filename)\n",
    "        print('Downloaded ' + local)\n",
    "    \n",
    "download('https://github.com/AllenDowney/ThinkComplexity2/raw/master/notebooks/utils.py')"
   ]
  },
  {
   "cell_type": "code",
   "execution_count": 2,
   "metadata": {},
   "outputs": [],
   "source": [
    "import matplotlib.pyplot as plt\n",
    "import numpy as np\n",
    "import networkx as nx\n",
    "\n",
    "from utils import decorate"
   ]
  },
  {
   "cell_type": "markdown",
   "metadata": {},
   "source": [
    "## Question 1\n",
    "\n",
    "Let's see if we can find a graph model that does a better job matching the clustering, path length, and degree distribution of online social networks.\n",
    "\n",
    "Here's the Facebook data from Chapter 4 again."
   ]
  },
  {
   "cell_type": "code",
   "execution_count": 3,
   "metadata": {},
   "outputs": [],
   "source": [
    "download('https://snap.stanford.edu/data/facebook_combined.txt.gz')"
   ]
  },
  {
   "cell_type": "code",
   "execution_count": 4,
   "metadata": {},
   "outputs": [],
   "source": [
    "def read_graph(filename):\n",
    "    G = nx.Graph()\n",
    "    array = np.loadtxt(filename, dtype=int)\n",
    "    G.add_edges_from(array)\n",
    "    return G"
   ]
  },
  {
   "cell_type": "code",
   "execution_count": 5,
   "metadata": {},
   "outputs": [],
   "source": [
    "fb = read_graph('../data/facebook_combined.txt.gz')"
   ]
  },
  {
   "cell_type": "markdown",
   "metadata": {},
   "source": [
    "Here are the number of nodes, `n`, the number of edges, `m`, and the average degree, `k`."
   ]
  },
  {
   "cell_type": "code",
   "execution_count": 6,
   "metadata": {},
   "outputs": [],
   "source": [
    "n = len(fb)\n",
    "m = len(fb.edges())\n",
    "k = int(round(2*m/n))\n",
    "n, m, k"
   ]
  },
  {
   "cell_type": "markdown",
   "metadata": {},
   "source": [
    "The average clustering coefficient is about 0.6"
   ]
  },
  {
   "cell_type": "code",
   "execution_count": 7,
   "metadata": {},
   "outputs": [],
   "source": [
    "from networkx.algorithms.approximation import average_clustering"
   ]
  },
  {
   "cell_type": "code",
   "execution_count": 8,
   "metadata": {},
   "outputs": [],
   "source": [
    "C = average_clustering(fb)\n",
    "C"
   ]
  },
  {
   "cell_type": "markdown",
   "metadata": {},
   "source": [
    "The average path length is short."
   ]
  },
  {
   "cell_type": "code",
   "execution_count": 9,
   "metadata": {},
   "outputs": [],
   "source": [
    "def random_path_lengths(G, nodes=None, trials=1000):\n",
    "    \"\"\"Choose random pairs of nodes and compute the path length between them.\n",
    "\n",
    "    G: Graph\n",
    "    nodes: list of nodes to choose from\n",
    "    trials: number of pairs to choose\n",
    "\n",
    "    returns: list of path lengths\n",
    "    \"\"\"\n",
    "    if nodes is None:\n",
    "        nodes = G.nodes()\n",
    "    else:\n",
    "        nodes = list(nodes)\n",
    "        \n",
    "    pairs = np.random.choice(nodes, (trials, 2))\n",
    "    lengths = [nx.shortest_path_length(G, *pair) \n",
    "               for pair in pairs]\n",
    "    return lengths\n",
    "\n",
    "def estimate_path_length(G, nodes=None, trials=1000):\n",
    "    return np.mean(random_path_lengths(G, nodes, trials))"
   ]
  },
  {
   "cell_type": "code",
   "execution_count": 10,
   "metadata": {},
   "outputs": [],
   "source": [
    "L = estimate_path_length(fb)\n",
    "L"
   ]
  },
  {
   "cell_type": "markdown",
   "metadata": {},
   "source": [
    "And the standard deviation of degree is high."
   ]
  },
  {
   "cell_type": "code",
   "execution_count": 11,
   "metadata": {},
   "outputs": [],
   "source": [
    "def degrees(G):\n",
    "    \"\"\"List of degrees for nodes in `G`.\n",
    "    \n",
    "    G: Graph object\n",
    "    \n",
    "    returns: list of int\n",
    "    \"\"\"\n",
    "    return [G.degree(u) for u in G]"
   ]
  },
  {
   "cell_type": "code",
   "execution_count": 12,
   "metadata": {},
   "outputs": [],
   "source": [
    "np.mean(degrees(fb)), np.std(degrees(fb))"
   ]
  },
  {
   "cell_type": "markdown",
   "metadata": {},
   "source": [
    "## FOF model\n",
    "\n",
    "I propose a new graph model called FOF for \"friends of friends\".\n",
    "\n",
    "It starts with a complete graph with `k+1` nodes, so initially all nodes have degree `k`.  \n",
    "\n",
    "Then we generate the remaining nodes like this:\n",
    "\n",
    "0. Create a new node we'll call the source.\n",
    "\n",
    "1.  Select a random target uniformly from existing nodes.\n",
    "\n",
    "2.  Iterate through the friends of the target.  For each one, with probability `p`, form a triangle that includes the source, friend, and a random friend of the friend.\n",
    "\n",
    "3.  Finally, connect the source and target.\n",
    "\n",
    "Fill in the following function to implement this process.\n",
    "\n",
    "Hints:\n",
    "\n",
    "1. You can use `flip`, provided below.\n",
    "\n",
    "2. To create the complete graph, I used `nx.complete_graph`. \n",
    "\n",
    "3. I found it helpful to write a separate function to generate triangles."
   ]
  },
  {
   "cell_type": "code",
   "execution_count": 13,
   "metadata": {},
   "outputs": [],
   "source": [
    "def fof_graph(n, k, p=0.25):\n",
    "    \"\"\"Make a FOF graph.\n",
    "    \n",
    "    n: number of nodes\n",
    "    k: average degree\n",
    "    p: probability of adding a triangle\n",
    "    \n",
    "    returns: nx.Graph\n",
    "    \"\"\"\n",
    "    \n",
    "    # FILL THIS IN"
   ]
  },
  {
   "cell_type": "code",
   "execution_count": 14,
   "metadata": {},
   "outputs": [],
   "source": [
    "def flip(p):\n",
    "    return np.random.random() < p"
   ]
  },
  {
   "cell_type": "code",
   "execution_count": 15,
   "metadata": {},
   "outputs": [],
   "source": []
  },
  {
   "cell_type": "code",
   "execution_count": 16,
   "metadata": {},
   "outputs": [],
   "source": []
  },
  {
   "cell_type": "markdown",
   "metadata": {},
   "source": [
    "Use your function to make a FOF graph with the same number of nodes as the Facebook data, and approximately the same number of edges.\n",
    "You might have to adjust `p` to get the number of edges right."
   ]
  },
  {
   "cell_type": "code",
   "execution_count": 17,
   "metadata": {},
   "outputs": [],
   "source": []
  },
  {
   "cell_type": "markdown",
   "metadata": {},
   "source": [
    "You can run the next few cells to see how well the result matches the Facebook data (but it's not necessary for the quiz).\n",
    "\n",
    "Here's the average clustering."
   ]
  },
  {
   "cell_type": "code",
   "execution_count": 18,
   "metadata": {},
   "outputs": [],
   "source": [
    "C, average_clustering(fof)"
   ]
  },
  {
   "cell_type": "markdown",
   "metadata": {},
   "source": [
    "And the path length."
   ]
  },
  {
   "cell_type": "code",
   "execution_count": 19,
   "metadata": {},
   "outputs": [],
   "source": [
    "L, estimate_path_length(fof)"
   ]
  },
  {
   "cell_type": "markdown",
   "metadata": {},
   "source": [
    "And the degree distribution."
   ]
  },
  {
   "cell_type": "code",
   "execution_count": 20,
   "metadata": {},
   "outputs": [],
   "source": [
    "from empiricaldist import Cdf\n",
    "\n",
    "cdf_fb = Cdf.from_seq(degrees(fb), name='Facebook')\n",
    "cdf_fof = Cdf.from_seq(degrees(fof), name='FOF')"
   ]
  },
  {
   "cell_type": "markdown",
   "metadata": {},
   "source": [
    "Here's the CDF on a log-x scale."
   ]
  },
  {
   "cell_type": "code",
   "execution_count": 21,
   "metadata": {},
   "outputs": [],
   "source": [
    "cdf_fb.plot()\n",
    "cdf_fof.plot()\n",
    "\n",
    "decorate(xlabel='Degree',\n",
    "         ylabel='CDF',\n",
    "         xscale='log',\n",
    "         title='CDF on log-x scale')"
   ]
  },
  {
   "cell_type": "markdown",
   "metadata": {},
   "source": [
    "And the complementary CDF on a log-log scale."
   ]
  },
  {
   "cell_type": "code",
   "execution_count": 22,
   "metadata": {},
   "outputs": [],
   "source": [
    "(1 - cdf_fb).plot()\n",
    "(1 - cdf_fof).plot()\n",
    "\n",
    "decorate(xlabel='Degree',\n",
    "         ylabel='CCDF',\n",
    "         xscale='log', \n",
    "         yscale='log',\n",
    "         title='Complementary CDF on log-log scale')"
   ]
  },
  {
   "cell_type": "markdown",
   "metadata": {},
   "source": [
    "## Question 2\n",
    "\n",
    "Here's the code from Chapter 5 that makes a 1-D cellular automaton."
   ]
  },
  {
   "cell_type": "code",
   "execution_count": 23,
   "metadata": {},
   "outputs": [],
   "source": [
    "class Cell1D:\n",
    "    \"\"\"Represents a 1-D a cellular automaton\"\"\"\n",
    "\n",
    "    def __init__(self, rule, n, m=None):\n",
    "        \"\"\"Initializes the CA.\n",
    "\n",
    "        rule: integer\n",
    "        n: number of rows\n",
    "        m: number of columns\n",
    "\n",
    "        Attributes:\n",
    "        table:  rule dictionary that maps from triple to next state.\n",
    "        array:  the numpy array that contains the data.\n",
    "        next:   the index of the next empty row.\n",
    "        \"\"\"\n",
    "        self.table = make_table(rule)\n",
    "        self.n = n\n",
    "        self.m = 2*n + 1 if m is None else m\n",
    "\n",
    "        self.array = np.zeros((n, self.m), dtype=np.int8)\n",
    "        self.next = 0\n",
    "\n",
    "    def start_single(self):\n",
    "        \"\"\"Starts with one cell in the middle of the top row.\"\"\"\n",
    "        self.array[0, self.m//2] = 1\n",
    "        self.next += 1\n",
    "        \n",
    "    def start_random(self):\n",
    "        \"\"\"Start with random values in the top row.\"\"\"\n",
    "        self.array[0] = np.random.randint(2, size=self.m)\n",
    "        self.next += 1\n",
    "\n",
    "    def loop(self, steps=1):\n",
    "        \"\"\"Executes the given number of time steps.\"\"\"\n",
    "        for i in range(steps):\n",
    "            self.step()\n",
    "\n",
    "    def step(self):\n",
    "        \"\"\"Executes one time step by computing the next row of the array.\"\"\"\n",
    "        a = self.array\n",
    "        i = self.next\n",
    "        window = [4, 2, 1]\n",
    "        c = np.correlate(a[i-1], window, mode='same')\n",
    "        a[i] = self.table[c]\n",
    "        self.next += 1\n",
    "\n",
    "    def draw(self, start=0, end=None):\n",
    "        \"\"\"Draws the CA using pyplot.imshow.\n",
    "\n",
    "        start: index of the first column to be shown\n",
    "        end: index of the last column to be shown\n",
    "        \"\"\"\n",
    "        a = self.array[:, start:end]\n",
    "        plt.imshow(a, cmap='Purples', alpha=0.7)\n",
    "        \n",
    "        # turn off axis tick marks\n",
    "        plt.xticks([])\n",
    "        plt.yticks([])"
   ]
  },
  {
   "cell_type": "code",
   "execution_count": 24,
   "metadata": {},
   "outputs": [],
   "source": [
    "def make_table(rule):\n",
    "    \"\"\"Make the table for a given CA rule.\n",
    "    \n",
    "    rule: int 0-255\n",
    "    \n",
    "    returns: array of 8 0s and 1s\n",
    "    \"\"\"\n",
    "    rule = np.array([rule], dtype=np.uint8)\n",
    "    table = np.unpackbits(rule)[::-1]\n",
    "    return table"
   ]
  },
  {
   "cell_type": "code",
   "execution_count": 25,
   "metadata": {},
   "outputs": [],
   "source": [
    "rule = 30\n",
    "n = 100\n",
    "ca = Cell1D(rule, n)\n",
    "ca.start_single()\n",
    "ca.loop(n-1)\n",
    "ca.draw()"
   ]
  },
  {
   "cell_type": "markdown",
   "metadata": {},
   "source": [
    "Make a class called `Cell1D5N` that implements a 1-D CA with a 5 cell neigborhood.\n",
    "You can either modify the code above, or add new code below.\n",
    "\n",
    "To make the table, you don't have to decode a rule number; instead, generate a random array of `1`s and `0`s like this:\n",
    "\n",
    "```\n",
    "np.random.choice([0, 1], size=size, p=[1-p, p])\n",
    "```\n",
    "\n",
    "The parameter `p` controls the proportion of `1`s. Your `__init__` method should take `p` as a parameter instead of `rule`."
   ]
  },
  {
   "cell_type": "code",
   "execution_count": 26,
   "metadata": {},
   "outputs": [],
   "source": []
  },
  {
   "cell_type": "markdown",
   "metadata": {},
   "source": [
    "Use the following code to test your implementation."
   ]
  },
  {
   "cell_type": "code",
   "execution_count": 27,
   "metadata": {},
   "outputs": [],
   "source": [
    "p = 0.5\n",
    "n = 100\n",
    "ca = Cell1D5N(p, n)\n",
    "ca.start_single()\n",
    "ca.loop(n-1)\n",
    "ca.draw()"
   ]
  },
  {
   "cell_type": "code",
   "execution_count": null,
   "metadata": {},
   "outputs": [],
   "source": []
  }
 ],
 "metadata": {
  "kernelspec": {
   "display_name": "Python 3 (ipykernel)",
   "language": "python",
   "name": "python3"
  },
  "language_info": {
   "codemirror_mode": {
    "name": "ipython",
    "version": 3
   },
   "file_extension": ".py",
   "mimetype": "text/x-python",
   "name": "python",
   "nbconvert_exporter": "python",
   "pygments_lexer": "ipython3",
   "version": "3.7.11"
  }
 },
 "nbformat": 4,
 "nbformat_minor": 4
}
