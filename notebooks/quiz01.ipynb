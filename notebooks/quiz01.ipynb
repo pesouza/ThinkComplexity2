{
 "cells": [
  {
   "cell_type": "markdown",
   "metadata": {},
   "source": [
    "# Quiz 1\n",
    "\n",
    "BEFORE YOU START THIS QUIZ:\n",
    "\n",
    "1. Click on \"Share\",\n",
    "    \n",
    "2. Click on \"Change\" and select \"Anyone with this link can edit\"\n",
    "    \n",
    "3. Click \"Copy link\" and\n",
    "\n",
    "4. Paste the link into [this Canvas assignment](https://canvas.olin.edu/courses/315/assignments/4853). If you are not in my class, that link will not work for you.\n",
    "\n",
    "This quiz is based on Chapters 2 and 3 of [Think Complexity, 2nd edition](https://thinkcomplex.com).\n",
    "\n",
    "Copyright 2021 Allen Downey, [MIT License](http://opensource.org/licenses/MIT)"
   ]
  },
  {
   "cell_type": "markdown",
   "metadata": {},
   "source": [
    "## Question 1\n",
    "\n",
    "For the first two questions, we will extend the Erdos-Renyi experiment to directed graphs.\n",
    "\n",
    "NetworkX provides a function called `erdos_renyi_graph` that makes an Erdos-Renyi graph with `n` nodes and probability `p` that each edge exists.\n",
    "\n",
    "With the keyword argument `directed=True`, it makes a directed graph. Here's an example."
   ]
  },
  {
   "cell_type": "code",
   "execution_count": 1,
   "metadata": {},
   "outputs": [],
   "source": [
    "import networkx as nx\n",
    "\n",
    "n = 10\n",
    "p = 0.4\n",
    "\n",
    "er = nx.erdos_renyi_graph(n, p, directed=True)"
   ]
  },
  {
   "cell_type": "markdown",
   "metadata": {},
   "source": [
    "The following function draws the graph."
   ]
  },
  {
   "cell_type": "code",
   "execution_count": 31,
   "metadata": {},
   "outputs": [],
   "source": [
    "def draw_graph(G):\n",
    "    \"\"\"Draw a graph with node labels.\n",
    "    \n",
    "    G: NetworkX graph\n",
    "    \"\"\"\n",
    "    nx.draw_circular(G, node_color='C4', node_size=500, with_labels=True)"
   ]
  },
  {
   "cell_type": "code",
   "execution_count": 32,
   "metadata": {},
   "outputs": [],
   "source": [
    "draw_graph(er)"
   ]
  },
  {
   "cell_type": "markdown",
   "metadata": {},
   "source": [
    "NetworkX also provides a function called `is_strongly_connected`, which takes a directed graph as a parameter and returns `True` if the graph is strongly connected.\n",
    "\n",
    "Here's how we can use it with the example graph."
   ]
  },
  {
   "cell_type": "code",
   "execution_count": 33,
   "metadata": {},
   "outputs": [],
   "source": [
    "nx.is_strongly_connected(er)"
   ]
  },
  {
   "cell_type": "markdown",
   "metadata": {},
   "source": [
    "Fill in the body of the following function so it estimates the probability that a directed ER graph is strongly connected.\n",
    "\n",
    "The number of graphs it should create is `iters`; it should return the fraction that are strongly connected."
   ]
  },
  {
   "cell_type": "code",
   "execution_count": 5,
   "metadata": {},
   "outputs": [],
   "source": [
    "def prob_strongly_connected(n, p, iters=100):\n",
    "    \"\"\"Estimates the probability that a directed ER graph is strongly connected.\n",
    "    \n",
    "    n: number of nodes\n",
    "    p: probability each edge exists\n",
    "    iters: number of graphs to test\n",
    "    \n",
    "    returns: the fraction of graphs that are strongly connected\n",
    "    \"\"\"\n",
    "    # FILL THIS IN\n",
    "    return 0"
   ]
  },
  {
   "cell_type": "code",
   "execution_count": 6,
   "metadata": {},
   "outputs": [],
   "source": []
  },
  {
   "cell_type": "code",
   "execution_count": 7,
   "metadata": {},
   "outputs": [],
   "source": [
    "prob_strongly_connected(n, p)"
   ]
  },
  {
   "cell_type": "markdown",
   "metadata": {},
   "source": [
    "## Question 2\n",
    "\n",
    "Now we'd like to see how the probability of being strongly connected depends on `p`.\n",
    "\n",
    "First we'll create an array with a range of values of `p`."
   ]
  },
  {
   "cell_type": "code",
   "execution_count": 8,
   "metadata": {},
   "outputs": [],
   "source": [
    "import numpy as np\n",
    "\n",
    "ps = np.logspace(-1.3, 0, 11)\n",
    "ps"
   ]
  },
  {
   "cell_type": "markdown",
   "metadata": {},
   "source": [
    "Next we'll call the function from the previous section with each value of `p`."
   ]
  },
  {
   "cell_type": "code",
   "execution_count": 9,
   "metadata": {},
   "outputs": [],
   "source": [
    "ys = [prob_strongly_connected(n, p) for p in ps]\n",
    "ys"
   ]
  },
  {
   "cell_type": "code",
   "execution_count": 10,
   "metadata": {},
   "outputs": [],
   "source": [
    "import matplotlib.pyplot as plt\n",
    "\n",
    "plt.plot(ps, ys)\n",
    "plt.xlabel('Prob of edge (p)')\n",
    "plt.xlabel('Prob connected')\n",
    "plt.xscale('log')"
   ]
  },
  {
   "cell_type": "markdown",
   "metadata": {},
   "source": [
    "As you might have expected, there's a a transition between two regimes:\n",
    "\n",
    "* For low values of `p`, the probability of a strongly connected graph is low.\n",
    "\n",
    "* For high values of `p`, the probability of a strongly connected graph is high.\n",
    "\n",
    "Do you expect the location of this transition to be higher or lower than the critical value, $p^*$, derived by Erdos and Renyi? Why?\n",
    "\n",
    "In the space below, write 1-3 clear, concise, complete sentences that explain your answer.\n"
   ]
  },
  {
   "cell_type": "code",
   "execution_count": 11,
   "metadata": {},
   "outputs": [],
   "source": []
  },
  {
   "cell_type": "markdown",
   "metadata": {},
   "source": [
    "## Question 3\n",
    "\n",
    "Network X provides a function called `watts_strogatz_graph` that makes a Watts-Strogatz graph with `n` nodes, where each node is connected to `k` others, and the probability of rewiring an edge is `p`.\n",
    "\n",
    "Here's an example."
   ]
  },
  {
   "cell_type": "code",
   "execution_count": 12,
   "metadata": {},
   "outputs": [],
   "source": [
    "n = 10\n",
    "k = 4\n",
    "p = 0.2\n",
    "\n",
    "ws = nx.watts_strogatz_graph(n, k, p)\n",
    "draw_graph(ws)"
   ]
  },
  {
   "cell_type": "markdown",
   "metadata": {},
   "source": [
    "NetworkX also provides a function called `closeness_centrality` that computes, for each node, a metric called \"closeness centrality\", [which you can read about here](https://networkx.org/documentation/stable/reference/algorithms/generated/networkx.algorithms.centrality.closeness_centrality.html#networkx.algorithms.centrality.closeness_centrality).\n",
    "\n",
    "Here's how it works."
   ]
  },
  {
   "cell_type": "code",
   "execution_count": 13,
   "metadata": {},
   "outputs": [],
   "source": [
    "nx.closeness_centrality(ws)"
   ]
  },
  {
   "cell_type": "markdown",
   "metadata": {},
   "source": [
    "Fill in the body of the following function so that it creates one Watts-Strogatz graph with the given parameters and returns the mean closeness centrality, averaged across the nodes."
   ]
  },
  {
   "cell_type": "code",
   "execution_count": 14,
   "metadata": {},
   "outputs": [],
   "source": [
    "def mean_closeness_centrality(n, k, p):\n",
    "    \"\"\"Compute the average of the closeness centrality for each node.\n",
    "    \n",
    "    n: number of nodes\n",
    "    k: number of edges for each node\n",
    "    p: probability of rewiring\n",
    "    \"\"\"\n",
    "    # FILL THIS IN\n",
    "    return 0"
   ]
  },
  {
   "cell_type": "code",
   "execution_count": 15,
   "metadata": {},
   "outputs": [],
   "source": []
  },
  {
   "cell_type": "markdown",
   "metadata": {},
   "source": [
    "Use the following cell to test your function."
   ]
  },
  {
   "cell_type": "code",
   "execution_count": 16,
   "metadata": {},
   "outputs": [],
   "source": [
    "mean_closeness_centrality(n, k, p)"
   ]
  },
  {
   "cell_type": "markdown",
   "metadata": {},
   "source": [
    "## Question 4\n",
    "\n",
    "The following function runs `mean_closeness_centrality` for a range of values for `p` and returns an array of mean closeness centralities, one for each value of `p`."
   ]
  },
  {
   "cell_type": "code",
   "execution_count": 17,
   "metadata": {},
   "outputs": [],
   "source": [
    "def run_experiment(ps, n=1000, k=10):\n",
    "    \"\"\"Computes mean closeness centrality for WS graphs with a range of `p`.\n",
    "    \n",
    "    ps: sequence of `p` to try\n",
    "    n: number of nodes\n",
    "    k: degree of each node\n",
    "    \n",
    "    returns: array of mean closeness_centrality\n",
    "    \"\"\"\n",
    "    res = []\n",
    "    for p in ps:\n",
    "        metric = mean_closeness_centrality(n, k, p) \n",
    "        res.append(metric)\n",
    "    return np.array(res)"
   ]
  },
  {
   "cell_type": "markdown",
   "metadata": {},
   "source": [
    "Now we'll run it with an array of values for `p`. This might take a few seconds."
   ]
  },
  {
   "cell_type": "code",
   "execution_count": 18,
   "metadata": {},
   "outputs": [],
   "source": [
    "ps = np.logspace(-4, 0, 9)\n",
    "ps"
   ]
  },
  {
   "cell_type": "code",
   "execution_count": 19,
   "metadata": {},
   "outputs": [],
   "source": [
    "mcc = run_experiment(ps)\n",
    "mcc"
   ]
  },
  {
   "cell_type": "markdown",
   "metadata": {},
   "source": [
    "If your code in the previous section did not work, you can use the following values:"
   ]
  },
  {
   "cell_type": "code",
   "execution_count": 38,
   "metadata": {},
   "outputs": [],
   "source": [
    "# mcc = np.array([0.03043911, 0.02560553, 0.04070766, 0.05863695, 0.1156313, 0.17090281, 0.21877453, 0.28035792, 0.30610306])"
   ]
  },
  {
   "cell_type": "markdown",
   "metadata": {},
   "source": [
    "We'll normalize the values in `mcc` so the *last* one is 1.0"
   ]
  },
  {
   "cell_type": "code",
   "execution_count": 39,
   "metadata": {},
   "outputs": [],
   "source": [
    "M = mcc / mcc[-1]"
   ]
  },
  {
   "cell_type": "markdown",
   "metadata": {},
   "source": [
    "And plot the results."
   ]
  },
  {
   "cell_type": "code",
   "execution_count": 40,
   "metadata": {},
   "outputs": [],
   "source": [
    "plt.plot(ps, M, 's-', linewidth=1, label='M(p) / M(0)')\n",
    "plt.xlabel('Rewiring probability (p)')\n",
    "plt.xscale('log')\n",
    "plt.ylabel('Normalized closeness centrality')\n",
    "plt.xlim([0.00009, 1.1])\n",
    "plt.ylim([-0.01, 1.01]);"
   ]
  },
  {
   "cell_type": "markdown",
   "metadata": {},
   "source": [
    "Suppose another student in the class asked you to interpret this graph. In a few clear, concise, complete sentences, explain what closeness centrality means in the context of a social network. What, if anything, does this graph tell us about small world graphs?"
   ]
  },
  {
   "cell_type": "code",
   "execution_count": 22,
   "metadata": {},
   "outputs": [],
   "source": []
  },
  {
   "cell_type": "code",
   "execution_count": null,
   "metadata": {},
   "outputs": [],
   "source": []
  }
 ],
 "metadata": {
  "kernelspec": {
   "display_name": "Python 3 (ipykernel)",
   "language": "python",
   "name": "python3"
  },
  "language_info": {
   "codemirror_mode": {
    "name": "ipython",
    "version": 3
   },
   "file_extension": ".py",
   "mimetype": "text/x-python",
   "name": "python",
   "nbconvert_exporter": "python",
   "pygments_lexer": "ipython3",
   "version": "3.7.11"
  }
 },
 "nbformat": 4,
 "nbformat_minor": 1
}
